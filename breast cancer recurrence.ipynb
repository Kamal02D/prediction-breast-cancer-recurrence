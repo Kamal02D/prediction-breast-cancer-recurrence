{
 "cells": [
  {
   "cell_type": "code",
   "execution_count": 1,
   "id": "363d1189",
   "metadata": {},
   "outputs": [],
   "source": [
    "#specail thanks to :\n",
    "#Matjaz Zwitter & Milan Soklic (physicians)\n",
    "#Institute of Oncology\n",
    "#University Medical Center\n",
    "#Ljubljana, Yugoslavia\n",
    "\n",
    "#Donors:\n",
    "\n",
    "#Ming Tan and Jeff Schlimmer (Jeffrey.Schlimmer '@' a.gp.cs.cmu.edu)"
   ]
  },
  {
   "cell_type": "code",
   "execution_count": 2,
   "id": "464948b6",
   "metadata": {},
   "outputs": [],
   "source": [
    "# data set link  : https://archive.ics.uci.edu/ml/datasets/Breast+Cancer"
   ]
  },
  {
   "cell_type": "code",
   "execution_count": 3,
   "id": "8ea7ddd1",
   "metadata": {},
   "outputs": [],
   "source": [
    "# importing pyspark\n",
    "import findspark\n",
    "findspark.init()\n",
    "from pyspark.sql import SparkSession\n",
    "spark_session = SparkSession.builder.appName(\"breast cancer\").getOrCreate()"
   ]
  },
  {
   "cell_type": "code",
   "execution_count": 4,
   "id": "34f1f4ae",
   "metadata": {},
   "outputs": [
    {
     "name": "stdout",
     "output_type": "stream",
     "text": [
      "root\n",
      " |-- Class: string (nullable = true)\n",
      " |-- age: string (nullable = true)\n",
      " |-- menopause: string (nullable = true)\n",
      " |-- tumor_size: string (nullable = true)\n",
      " |-- inv_nodes: string (nullable = true)\n",
      " |-- node_caps: string (nullable = true)\n",
      " |-- deg_malig: integer (nullable = true)\n",
      " |-- breast: string (nullable = true)\n",
      " |-- breast_quad: string (nullable = true)\n",
      " |-- irradiat: string (nullable = true)\n",
      "\n"
     ]
    }
   ],
   "source": [
    "#reading the data set\n",
    "data = spark_session.read.csv(\"breast-cancer.data\" , inferSchema=True, sep=\",\")\n",
    "data = data.withColumnRenamed(\"_c0\" , \"Class\")\n",
    "data = data.withColumnRenamed(\"_c1\" , \"age\")\n",
    "data = data.withColumnRenamed(\"_c2\" , \"menopause\")\n",
    "data = data.withColumnRenamed(\"_c3\" , \"tumor_size\")\n",
    "data = data.withColumnRenamed(\"_c4\" , \"inv_nodes\")\n",
    "data = data.withColumnRenamed(\"_c5\" , \"node_caps\")\n",
    "data = data.withColumnRenamed(\"_c6\" , \"deg_malig\")\n",
    "data = data.withColumnRenamed(\"_c7\" , \"breast\")\n",
    "data = data.withColumnRenamed(\"_c8\" , \"breast_quad\")\n",
    "data = data.withColumnRenamed(\"_c9\" , \"irradiat\")\n",
    "data.printSchema()"
   ]
  },
  {
   "cell_type": "code",
   "execution_count": 5,
   "id": "3fe14335",
   "metadata": {},
   "outputs": [
    {
     "name": "stdout",
     "output_type": "stream",
     "text": [
      "+--------------------+-----+---------+----------+---------+---------+---------+------+-----------+--------+\n",
      "|               Class|  age|menopause|tumor_size|inv_nodes|node_caps|deg_malig|breast|breast_quad|irradiat|\n",
      "+--------------------+-----+---------+----------+---------+---------+---------+------+-----------+--------+\n",
      "|no-recurrence-events|30-39|  premeno|     30-34|      0-2|       no|        3|  left|   left_low|      no|\n",
      "|no-recurrence-events|40-49|  premeno|     20-24|      0-2|       no|        2| right|   right_up|      no|\n",
      "|no-recurrence-events|40-49|  premeno|     20-24|      0-2|       no|        2|  left|   left_low|      no|\n",
      "|no-recurrence-events|60-69|     ge40|     15-19|      0-2|       no|        2| right|    left_up|      no|\n",
      "|no-recurrence-events|40-49|  premeno|       0-4|      0-2|       no|        2| right|  right_low|      no|\n",
      "|no-recurrence-events|60-69|     ge40|     15-19|      0-2|       no|        2|  left|   left_low|      no|\n",
      "|no-recurrence-events|50-59|  premeno|     25-29|      0-2|       no|        2|  left|   left_low|      no|\n",
      "|no-recurrence-events|60-69|     ge40|     20-24|      0-2|       no|        1|  left|   left_low|      no|\n",
      "|no-recurrence-events|40-49|  premeno|     50-54|      0-2|       no|        2|  left|   left_low|      no|\n",
      "|no-recurrence-events|40-49|  premeno|     20-24|      0-2|       no|        2| right|    left_up|      no|\n",
      "|no-recurrence-events|40-49|  premeno|       0-4|      0-2|       no|        3|  left|    central|      no|\n",
      "|no-recurrence-events|50-59|     ge40|     25-29|      0-2|       no|        2|  left|   left_low|      no|\n",
      "|no-recurrence-events|60-69|     lt40|     10-14|      0-2|       no|        1|  left|   right_up|      no|\n",
      "|no-recurrence-events|50-59|     ge40|     25-29|      0-2|       no|        3|  left|   right_up|      no|\n",
      "|no-recurrence-events|40-49|  premeno|     30-34|      0-2|       no|        3|  left|    left_up|      no|\n",
      "|no-recurrence-events|60-69|     lt40|     30-34|      0-2|       no|        1|  left|   left_low|      no|\n",
      "|no-recurrence-events|40-49|  premeno|     15-19|      0-2|       no|        2|  left|   left_low|      no|\n",
      "|no-recurrence-events|50-59|  premeno|     30-34|      0-2|       no|        3|  left|   left_low|      no|\n",
      "|no-recurrence-events|60-69|     ge40|     30-34|      0-2|       no|        3|  left|   left_low|      no|\n",
      "|no-recurrence-events|50-59|     ge40|     30-34|      0-2|       no|        1| right|   right_up|      no|\n",
      "|no-recurrence-events|50-59|     ge40|     40-44|      0-2|       no|        2|  left|   left_low|      no|\n",
      "|no-recurrence-events|60-69|     ge40|     15-19|      0-2|       no|        2|  left|   left_low|      no|\n",
      "|no-recurrence-events|30-39|  premeno|     25-29|      0-2|       no|        2| right|   left_low|      no|\n",
      "|no-recurrence-events|50-59|  premeno|     40-44|      0-2|       no|        2|  left|    left_up|      no|\n",
      "|no-recurrence-events|50-59|  premeno|     35-39|      0-2|       no|        2| right|    left_up|      no|\n",
      "|no-recurrence-events|40-49|  premeno|     25-29|      0-2|       no|        2|  left|    left_up|      no|\n",
      "|no-recurrence-events|50-59|  premeno|     20-24|      0-2|       no|        1|  left|   left_low|      no|\n",
      "|no-recurrence-events|60-69|     ge40|     25-29|      0-2|       no|        3| right|    left_up|      no|\n",
      "|no-recurrence-events|40-49|  premeno|     40-44|      0-2|       no|        2| right|   left_low|      no|\n",
      "|no-recurrence-events|60-69|     ge40|     30-34|      0-2|       no|        2|  left|   left_low|      no|\n",
      "|no-recurrence-events|50-59|     ge40|     40-44|      0-2|       no|        3| right|    left_up|      no|\n",
      "|no-recurrence-events|50-59|  premeno|     15-19|      0-2|       no|        2| right|   left_low|      no|\n",
      "|no-recurrence-events|50-59|  premeno|     10-14|      0-2|       no|        3|  left|   left_low|      no|\n",
      "|no-recurrence-events|50-59|     ge40|     10-14|      0-2|       no|        1| right|    left_up|      no|\n",
      "|no-recurrence-events|50-59|     ge40|     10-14|      0-2|       no|        1|  left|    left_up|      no|\n",
      "|no-recurrence-events|30-39|  premeno|     30-34|      0-2|       no|        2|  left|    left_up|      no|\n",
      "|no-recurrence-events|50-59|     ge40|       0-4|      0-2|       no|        2|  left|    central|      no|\n",
      "|no-recurrence-events|50-59|     ge40|     15-19|      0-2|       no|        1| right|    central|      no|\n",
      "|no-recurrence-events|40-49|  premeno|     10-14|      0-2|       no|        2|  left|   left_low|      no|\n",
      "|no-recurrence-events|40-49|  premeno|     30-34|      0-2|       no|        1|  left|   left_low|      no|\n",
      "|no-recurrence-events|50-59|     ge40|     20-24|      0-2|       no|        1| right|   left_low|      no|\n",
      "|no-recurrence-events|60-69|     ge40|     25-29|      0-2|       no|        2|  left|   left_low|      no|\n",
      "|no-recurrence-events|60-69|     ge40|       5-9|      0-2|       no|        1|  left|    central|      no|\n",
      "|no-recurrence-events|40-49|  premeno|     10-14|      0-2|       no|        2|  left|    left_up|      no|\n",
      "|no-recurrence-events|50-59|     ge40|     50-54|      0-2|       no|        1| right|   right_up|      no|\n",
      "|no-recurrence-events|50-59|     ge40|     30-34|      0-2|       no|        1|  left|    left_up|      no|\n",
      "|no-recurrence-events|40-49|  premeno|     25-29|      0-2|       no|        2| right|   left_low|      no|\n",
      "|no-recurrence-events|50-59|  premeno|     25-29|      0-2|       no|        1| right|    left_up|      no|\n",
      "|no-recurrence-events|40-49|  premeno|     20-24|      0-2|       no|        1| right|   right_up|      no|\n",
      "|no-recurrence-events|40-49|  premeno|     20-24|      0-2|       no|        1| right|   left_low|      no|\n",
      "+--------------------+-----+---------+----------+---------+---------+---------+------+-----------+--------+\n",
      "only showing top 50 rows\n",
      "\n"
     ]
    }
   ],
   "source": [
    "data.show(50)"
   ]
  },
  {
   "cell_type": "code",
   "execution_count": 6,
   "id": "68765928",
   "metadata": {},
   "outputs": [
    {
     "name": "stdout",
     "output_type": "stream",
     "text": [
      "node_caps\n",
      "breast_quad\n"
     ]
    }
   ],
   "source": [
    "# checking if any columns have null values (?)\n",
    "for i in range(10):\n",
    "    if data.filter(\"{} = '?'\".format(data.columns[i])).count() > 0 :\n",
    "        print(data.columns[i])"
   ]
  },
  {
   "cell_type": "code",
   "execution_count": 7,
   "id": "a3dcc7e6",
   "metadata": {},
   "outputs": [
    {
     "name": "stdout",
     "output_type": "stream",
     "text": [
      "286\n",
      "+--------------------+-----+---------+----------+---------+---------+---------+------+-----------+--------+\n",
      "|               Class|  age|menopause|tumor_size|inv_nodes|node_caps|deg_malig|breast|breast_quad|irradiat|\n",
      "+--------------------+-----+---------+----------+---------+---------+---------+------+-----------+--------+\n",
      "|no-recurrence-events|30-39|  premeno|     30-34|      0-2|       no|        3|  left|   left_low|      no|\n",
      "|no-recurrence-events|40-49|  premeno|     20-24|      0-2|       no|        2| right|   right_up|      no|\n",
      "|no-recurrence-events|40-49|  premeno|     20-24|      0-2|       no|        2|  left|   left_low|      no|\n",
      "|no-recurrence-events|60-69|     ge40|     15-19|      0-2|       no|        2| right|    left_up|      no|\n",
      "|no-recurrence-events|40-49|  premeno|       0-4|      0-2|       no|        2| right|  right_low|      no|\n",
      "|no-recurrence-events|60-69|     ge40|     15-19|      0-2|       no|        2|  left|   left_low|      no|\n",
      "|no-recurrence-events|50-59|  premeno|     25-29|      0-2|       no|        2|  left|   left_low|      no|\n",
      "|no-recurrence-events|60-69|     ge40|     20-24|      0-2|       no|        1|  left|   left_low|      no|\n",
      "|no-recurrence-events|40-49|  premeno|     50-54|      0-2|       no|        2|  left|   left_low|      no|\n",
      "|no-recurrence-events|40-49|  premeno|     20-24|      0-2|       no|        2| right|    left_up|      no|\n",
      "|no-recurrence-events|40-49|  premeno|       0-4|      0-2|       no|        3|  left|    central|      no|\n",
      "|no-recurrence-events|50-59|     ge40|     25-29|      0-2|       no|        2|  left|   left_low|      no|\n",
      "|no-recurrence-events|60-69|     lt40|     10-14|      0-2|       no|        1|  left|   right_up|      no|\n",
      "|no-recurrence-events|50-59|     ge40|     25-29|      0-2|       no|        3|  left|   right_up|      no|\n",
      "|no-recurrence-events|40-49|  premeno|     30-34|      0-2|       no|        3|  left|    left_up|      no|\n",
      "|no-recurrence-events|60-69|     lt40|     30-34|      0-2|       no|        1|  left|   left_low|      no|\n",
      "|no-recurrence-events|40-49|  premeno|     15-19|      0-2|       no|        2|  left|   left_low|      no|\n",
      "|no-recurrence-events|50-59|  premeno|     30-34|      0-2|       no|        3|  left|   left_low|      no|\n",
      "|no-recurrence-events|60-69|     ge40|     30-34|      0-2|       no|        3|  left|   left_low|      no|\n",
      "|no-recurrence-events|50-59|     ge40|     30-34|      0-2|       no|        1| right|   right_up|      no|\n",
      "+--------------------+-----+---------+----------+---------+---------+---------+------+-----------+--------+\n",
      "only showing top 20 rows\n",
      "\n",
      "277\n"
     ]
    }
   ],
   "source": [
    "# eliminating missing values ?\n",
    "print(data.count())\n",
    "data = data.filter((data.node_caps != '?') & (data.breast_quad != '?'))\n",
    "data.show()\n",
    "print(data.count())"
   ]
  },
  {
   "cell_type": "code",
   "execution_count": 8,
   "id": "edddcea4",
   "metadata": {},
   "outputs": [
    {
     "name": "stdout",
     "output_type": "stream",
     "text": [
      "+--------------------+-----+---------+----------+---------+---------+---------+------+-----------+--------+-------------+-----------+-----------------+------------------+-----------------+-----------------+--------------+-------------------+----------------+\n",
      "|               Class|  age|menopause|tumor_size|inv_nodes|node_caps|deg_malig|breast|breast_quad|irradiat|class_indexed|age_indexed|menopause_indexed|tumor_size_indexed|inv_nodes_indexed|node_caps_indexed|breast_indexed|breast_quad_indexed|irradiat_indexed|\n",
      "+--------------------+-----+---------+----------+---------+---------+---------+------+-----------+--------+-------------+-----------+-----------------+------------------+-----------------+-----------------+--------------+-------------------+----------------+\n",
      "|no-recurrence-events|30-39|  premeno|     30-34|      0-2|       no|        3|  left|   left_low|      no|          0.0|        3.0|              0.0|               0.0|              0.0|              0.0|           0.0|                0.0|             0.0|\n",
      "|no-recurrence-events|40-49|  premeno|     20-24|      0-2|       no|        2| right|   right_up|      no|          0.0|        1.0|              0.0|               2.0|              0.0|              0.0|           1.0|                2.0|             0.0|\n",
      "|no-recurrence-events|40-49|  premeno|     20-24|      0-2|       no|        2|  left|   left_low|      no|          0.0|        1.0|              0.0|               2.0|              0.0|              0.0|           0.0|                0.0|             0.0|\n",
      "|no-recurrence-events|60-69|     ge40|     15-19|      0-2|       no|        2| right|    left_up|      no|          0.0|        2.0|              1.0|               3.0|              0.0|              0.0|           1.0|                1.0|             0.0|\n",
      "|no-recurrence-events|40-49|  premeno|       0-4|      0-2|       no|        2| right|  right_low|      no|          0.0|        1.0|              0.0|               7.0|              0.0|              0.0|           1.0|                3.0|             0.0|\n",
      "|no-recurrence-events|60-69|     ge40|     15-19|      0-2|       no|        2|  left|   left_low|      no|          0.0|        2.0|              1.0|               3.0|              0.0|              0.0|           0.0|                0.0|             0.0|\n",
      "|no-recurrence-events|50-59|  premeno|     25-29|      0-2|       no|        2|  left|   left_low|      no|          0.0|        0.0|              0.0|               1.0|              0.0|              0.0|           0.0|                0.0|             0.0|\n",
      "|no-recurrence-events|60-69|     ge40|     20-24|      0-2|       no|        1|  left|   left_low|      no|          0.0|        2.0|              1.0|               2.0|              0.0|              0.0|           0.0|                0.0|             0.0|\n",
      "|no-recurrence-events|40-49|  premeno|     50-54|      0-2|       no|        2|  left|   left_low|      no|          0.0|        1.0|              0.0|               8.0|              0.0|              0.0|           0.0|                0.0|             0.0|\n",
      "|no-recurrence-events|40-49|  premeno|     20-24|      0-2|       no|        2| right|    left_up|      no|          0.0|        1.0|              0.0|               2.0|              0.0|              0.0|           1.0|                1.0|             0.0|\n",
      "|no-recurrence-events|40-49|  premeno|       0-4|      0-2|       no|        3|  left|    central|      no|          0.0|        1.0|              0.0|               7.0|              0.0|              0.0|           0.0|                4.0|             0.0|\n",
      "|no-recurrence-events|50-59|     ge40|     25-29|      0-2|       no|        2|  left|   left_low|      no|          0.0|        0.0|              1.0|               1.0|              0.0|              0.0|           0.0|                0.0|             0.0|\n",
      "|no-recurrence-events|60-69|     lt40|     10-14|      0-2|       no|        1|  left|   right_up|      no|          0.0|        2.0|              2.0|               4.0|              0.0|              0.0|           0.0|                2.0|             0.0|\n",
      "|no-recurrence-events|50-59|     ge40|     25-29|      0-2|       no|        3|  left|   right_up|      no|          0.0|        0.0|              1.0|               1.0|              0.0|              0.0|           0.0|                2.0|             0.0|\n",
      "|no-recurrence-events|40-49|  premeno|     30-34|      0-2|       no|        3|  left|    left_up|      no|          0.0|        1.0|              0.0|               0.0|              0.0|              0.0|           0.0|                1.0|             0.0|\n",
      "|no-recurrence-events|60-69|     lt40|     30-34|      0-2|       no|        1|  left|   left_low|      no|          0.0|        2.0|              2.0|               0.0|              0.0|              0.0|           0.0|                0.0|             0.0|\n",
      "|no-recurrence-events|40-49|  premeno|     15-19|      0-2|       no|        2|  left|   left_low|      no|          0.0|        1.0|              0.0|               3.0|              0.0|              0.0|           0.0|                0.0|             0.0|\n",
      "|no-recurrence-events|50-59|  premeno|     30-34|      0-2|       no|        3|  left|   left_low|      no|          0.0|        0.0|              0.0|               0.0|              0.0|              0.0|           0.0|                0.0|             0.0|\n",
      "|no-recurrence-events|60-69|     ge40|     30-34|      0-2|       no|        3|  left|   left_low|      no|          0.0|        2.0|              1.0|               0.0|              0.0|              0.0|           0.0|                0.0|             0.0|\n",
      "|no-recurrence-events|50-59|     ge40|     30-34|      0-2|       no|        1| right|   right_up|      no|          0.0|        0.0|              1.0|               0.0|              0.0|              0.0|           1.0|                2.0|             0.0|\n",
      "+--------------------+-----+---------+----------+---------+---------+---------+------+-----------+--------+-------------+-----------+-----------------+------------------+-----------------+-----------------+--------------+-------------------+----------------+\n",
      "only showing top 20 rows\n",
      "\n"
     ]
    }
   ],
   "source": [
    "# indexing  the categorical columns\n",
    "from pyspark.ml.feature import StringIndexer\n",
    "str_indexer = StringIndexer(inputCol = \"Class\" , outputCol = \"class_indexed\")\n",
    "indexed = str_indexer.fit(data).transform(data)\n",
    "for i in range(1,6):\n",
    "    str_indexer = StringIndexer(inputCol = data.columns[i] , outputCol = f\"{ data.columns[i]}_indexed\")\n",
    "    indexed = str_indexer.fit(indexed).transform(indexed)\n",
    "for i in range(7,10):\n",
    "    str_indexer = StringIndexer(inputCol = data.columns[i] , outputCol = f\"{data.columns[i]}_indexed\")\n",
    "    indexed = str_indexer.fit(indexed).transform(indexed)\n",
    "indexed.show()"
   ]
  },
  {
   "cell_type": "code",
   "execution_count": 9,
   "id": "42e764a6",
   "metadata": {},
   "outputs": [
    {
     "data": {
      "text/plain": [
       "('deg_malig',\n",
       " ['class_indexed',\n",
       "  'age_indexed',\n",
       "  'menopause_indexed',\n",
       "  'tumor_size_indexed',\n",
       "  'inv_nodes_indexed',\n",
       "  'node_caps_indexed',\n",
       "  'breast_indexed',\n",
       "  'breast_quad_indexed',\n",
       "  'irradiat_indexed'])"
      ]
     },
     "execution_count": 9,
     "metadata": {},
     "output_type": "execute_result"
    }
   ],
   "source": [
    "indexed.columns[6],indexed.columns[10:]"
   ]
  },
  {
   "cell_type": "code",
   "execution_count": 10,
   "id": "25a96f7d",
   "metadata": {},
   "outputs": [
    {
     "name": "stdout",
     "output_type": "stream",
     "text": [
      "+--------------------+-----+\n",
      "|            features|label|\n",
      "+--------------------+-----+\n",
      "| (9,[0,1],[3.0,3.0])|  0.0|\n",
      "|[2.0,1.0,0.0,2.0,...|  0.0|\n",
      "|(9,[0,1,3],[2.0,1...|  0.0|\n",
      "|[2.0,2.0,1.0,3.0,...|  0.0|\n",
      "|[2.0,1.0,0.0,7.0,...|  0.0|\n",
      "|(9,[0,1,2,3],[2.0...|  0.0|\n",
      "| (9,[0,3],[2.0,1.0])|  0.0|\n",
      "|(9,[0,1,2,3],[1.0...|  0.0|\n",
      "|(9,[0,1,3],[2.0,1...|  0.0|\n",
      "|[2.0,1.0,0.0,2.0,...|  0.0|\n",
      "|(9,[0,1,3,7],[3.0...|  0.0|\n",
      "|(9,[0,2,3],[2.0,1...|  0.0|\n",
      "|[1.0,2.0,2.0,4.0,...|  0.0|\n",
      "|(9,[0,2,3,7],[3.0...|  0.0|\n",
      "|(9,[0,1,7],[3.0,1...|  0.0|\n",
      "|(9,[0,1,2],[1.0,2...|  0.0|\n",
      "|(9,[0,1,3],[2.0,1...|  0.0|\n",
      "|       (9,[0],[3.0])|  0.0|\n",
      "|(9,[0,1,2],[3.0,2...|  0.0|\n",
      "|(9,[0,2,6,7],[1.0...|  0.0|\n",
      "+--------------------+-----+\n",
      "only showing top 20 rows\n",
      "\n"
     ]
    }
   ],
   "source": [
    "# assembling features\n",
    "from pyspark.ml.feature import VectorAssembler\n",
    "va = VectorAssembler(inputCols = ['deg_malig',\n",
    "  'age_indexed',\n",
    "  'menopause_indexed',\n",
    "  'tumor_size_indexed',\n",
    "  'inv_nodes_indexed',\n",
    "  'node_caps_indexed',\n",
    "  'breast_indexed',\n",
    "  'breast_quad_indexed',\n",
    "  'irradiat_indexed']\n",
    ",outputCol = \"features\")\n",
    "finalized_data = va.transform(indexed)\n",
    "finalized_data = finalized_data.select([\"features\" , \"class_indexed\"]).withColumnRenamed(\"class_indexed\" , \"label\")\n",
    "finalized_data.show()"
   ]
  },
  {
   "cell_type": "code",
   "execution_count": 11,
   "id": "bd0bfaa2",
   "metadata": {},
   "outputs": [],
   "source": [
    "test_data , train_data = finalized_data.randomSplit([0.3,0.7])"
   ]
  },
  {
   "cell_type": "code",
   "execution_count": 12,
   "id": "89c08c45",
   "metadata": {},
   "outputs": [
    {
     "name": "stdout",
     "output_type": "stream",
     "text": [
      "+--------------------+-----+--------------------+----------+\n",
      "|            features|label|       rawPrediction|prediction|\n",
      "+--------------------+-----+--------------------+----------+\n",
      "|       (9,[0],[3.0])|  0.0|[0.99150251803715...|       0.0|\n",
      "| (9,[0,1],[1.0,1.0])|  0.0|[1.00365529617852...|       0.0|\n",
      "| (9,[0,1],[3.0,3.0])|  0.0|[0.98950106143959...|       0.0|\n",
      "|(9,[0,1,2,3],[1.0...|  0.0|[1.00863330452980...|       0.0|\n",
      "|(9,[0,1,2,3],[2.0...|  0.0|[1.00139322288177...|       0.0|\n",
      "|(9,[0,1,2,8],[2.0...|  0.0|[1.00067152214902...|       0.0|\n",
      "|(9,[0,1,3],[1.0,1...|  1.0|[1.00780587856730...|       0.0|\n",
      "|(9,[0,1,3],[1.0,3...|  0.0|[1.00481134121341...|       0.0|\n",
      "|(9,[0,1,3],[2.0,1...|  0.0|[0.99890556396375...|       0.0|\n",
      "|(9,[0,1,3],[2.0,1...|  0.0|[1.00056579691926...|       0.0|\n",
      "|(9,[0,1,3],[3.0,3...|  1.0|[0.99448176030612...|       0.0|\n",
      "|(9,[0,1,3,6],[1.0...|  0.0|[1.00821625843353...|       0.0|\n",
      "|(9,[0,1,3,6],[2.0...|  0.0|[1.00097617678550...|       0.0|\n",
      "|(9,[0,1,3,6],[2.0...|  1.0|[1.00097617678550...|       0.0|\n",
      "|(9,[0,1,3,7],[2.0...|  0.0|[1.00455658801776...|       0.0|\n",
      "|(9,[0,1,3,7],[3.0...|  0.0|[0.99821219865971...|       0.0|\n",
      "|(9,[0,1,3,8],[1.0...|  0.0|[1.01289499317884...|       0.0|\n",
      "|(9,[0,1,3,8],[2.0...|  0.0|[1.00731514448632...|       0.0|\n",
      "|(9,[0,1,4,5],[3.0...|  1.0|[-1.0102978065575...|       1.0|\n",
      "|(9,[0,1,4,7],[2.0...|  0.0|[0.99033853172316...|       0.0|\n",
      "+--------------------+-----+--------------------+----------+\n",
      "only showing top 20 rows\n",
      "\n"
     ]
    }
   ],
   "source": [
    "from pyspark.ml.classification import LinearSVC\n",
    "svm = LinearSVC()\n",
    "svm = svm.fit(train_data)\n",
    "predictions = svm.evaluate(test_data).predictions\n",
    "predictions.show()"
   ]
  },
  {
   "cell_type": "code",
   "execution_count": 13,
   "id": "e514d6a5",
   "metadata": {},
   "outputs": [
    {
     "data": {
      "text/plain": [
       "0.7012743628185908"
      ]
     },
     "execution_count": 13,
     "metadata": {},
     "output_type": "execute_result"
    }
   ],
   "source": [
    "# eavaluating the accuracy of the model\n",
    "from pyspark.ml.evaluation import BinaryClassificationEvaluator\n",
    "evaluator = BinaryClassificationEvaluator()\n",
    "evaluator.evaluate(predictions)"
   ]
  },
  {
   "cell_type": "code",
   "execution_count": null,
   "id": "1a8eb256",
   "metadata": {},
   "outputs": [],
   "source": []
  }
 ],
 "metadata": {
  "kernelspec": {
   "display_name": "Python 3 (ipykernel)",
   "language": "python",
   "name": "python3"
  },
  "language_info": {
   "codemirror_mode": {
    "name": "ipython",
    "version": 3
   },
   "file_extension": ".py",
   "mimetype": "text/x-python",
   "name": "python",
   "nbconvert_exporter": "python",
   "pygments_lexer": "ipython3",
   "version": "3.10.5"
  }
 },
 "nbformat": 4,
 "nbformat_minor": 5
}
