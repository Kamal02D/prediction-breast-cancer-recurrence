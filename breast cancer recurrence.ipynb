{
 "cells": [
  {
   "cell_type": "code",
   "execution_count": 1,
   "id": "363d1189",
   "metadata": {},
   "outputs": [],
   "source": [
    "#specail thanks to :\n",
    "#Matjaz Zwitter & Milan Soklic (physicians)\n",
    "#Institute of Oncology\n",
    "#University Medical Center\n",
    "#Ljubljana, Yugoslavia\n",
    "\n",
    "#Donors:\n",
    "\n",
    "#Ming Tan and Jeff Schlimmer (Jeffrey.Schlimmer '@' a.gp.cs.cmu.edu)"
   ]
  },
  {
   "cell_type": "code",
   "execution_count": 2,
   "id": "464948b6",
   "metadata": {},
   "outputs": [],
   "source": [
    "# data set link  : https://archive.ics.uci.edu/ml/datasets/Breast+Cancer"
   ]
  },
  {
   "cell_type": "code",
   "execution_count": 3,
   "id": "8ea7ddd1",
   "metadata": {},
   "outputs": [],
   "source": [
    "# importing pyspark\n",
    "import findspark\n",
    "findspark.init()\n",
    "from pyspark.sql import SparkSession\n",
    "spark_session = SparkSession.builder.appName(\"breast cancer\").getOrCreate()"
   ]
  },
  {
   "cell_type": "code",
   "execution_count": null,
   "id": "34f1f4ae",
   "metadata": {},
   "outputs": [],
   "source": [
    "#reading the data set\n",
    "data = spark_session.read.csv(\"breast-cancer.data\" , inferSchema=True, sep=\",\")\n",
    "data = data.withColumnRenamed(\"_c0\" , \"Class\")\n",
    "data = data.withColumnRenamed(\"_c1\" , \"age\")\n",
    "data = data.withColumnRenamed(\"_c2\" , \"menopause\")\n",
    "data = data.withColumnRenamed(\"_c3\" , \"tumor_size\")\n",
    "data = data.withColumnRenamed(\"_c4\" , \"inv_nodes\")\n",
    "data = data.withColumnRenamed(\"_c5\" , \"node_caps\")\n",
    "data = data.withColumnRenamed(\"_c6\" , \"deg_malig\")\n",
    "data = data.withColumnRenamed(\"_c7\" , \"breast\")\n",
    "data = data.withColumnRenamed(\"_c8\" , \"breast_quad\")\n",
    "data = data.withColumnRenamed(\"_c9\" , \"irradiat\")\n",
    "data.printSchema()"
   ]
  },
  {
   "cell_type": "code",
   "execution_count": null,
   "id": "3fe14335",
   "metadata": {},
   "outputs": [],
   "source": [
    "data.show(50)"
   ]
  },
  {
   "cell_type": "code",
   "execution_count": null,
   "id": "68765928",
   "metadata": {},
   "outputs": [],
   "source": [
    "# checking if any columns have null values (?)\n",
    "for i in range(10):\n",
    "    if data.filter(\"{} = '?'\".format(data.columns[i])).count() > 0 :\n",
    "        print(data.columns[i])"
   ]
  },
  {
   "cell_type": "code",
   "execution_count": null,
   "id": "a3dcc7e6",
   "metadata": {},
   "outputs": [],
   "source": [
    "# eliminating missing values ?\n",
    "print(data.count())\n",
    "data = data.filter((data.node_caps != '?') & (data.breast_quad != '?'))\n",
    "data.show()\n",
    "print(data.count())"
   ]
  },
  {
   "cell_type": "code",
   "execution_count": null,
   "id": "edddcea4",
   "metadata": {},
   "outputs": [],
   "source": [
    "# indexing  the categorical columns\n",
    "from pyspark.ml.feature import StringIndexer\n",
    "str_indexer = StringIndexer(inputCol = \"Class\" , outputCol = \"class_indexed\")\n",
    "indexed = str_indexer.fit(data).transform(data)\n",
    "for i in range(1,6):\n",
    "    str_indexer = StringIndexer(inputCol = data.columns[i] , outputCol = f\"{ data.columns[i]}_indexed\")\n",
    "    indexed = str_indexer.fit(indexed).transform(indexed)\n",
    "for i in range(7,10):\n",
    "    str_indexer = StringIndexer(inputCol = data.columns[i] , outputCol = f\"{data.columns[i]}_indexed\")\n",
    "    indexed = str_indexer.fit(indexed).transform(indexed)\n",
    "indexed.show()"
   ]
  },
  {
   "cell_type": "code",
   "execution_count": null,
   "id": "42e764a6",
   "metadata": {},
   "outputs": [],
   "source": [
    "indexed.columns[6],indexed.columns[10:]"
   ]
  },
  {
   "cell_type": "code",
   "execution_count": null,
   "id": "25a96f7d",
   "metadata": {},
   "outputs": [],
   "source": [
    "# assembling features\n",
    "from pyspark.ml.feature import VectorAssembler\n",
    "va = VectorAssembler(inputCols = ['deg_malig',\n",
    "  'age_indexed',\n",
    "  'menopause_indexed',\n",
    "  'tumor_size_indexed',\n",
    "  'inv_nodes_indexed',\n",
    "  'node_caps_indexed',\n",
    "  'breast_indexed',\n",
    "  'breast_quad_indexed',\n",
    "  'irradiat_indexed']\n",
    ",outputCol = \"features\")\n",
    "finalized_data = va.transform(indexed)\n",
    "finalized_data = finalized_data.select([\"features\" , \"class_indexed\"]).withColumnRenamed(\"class_indexed\" , \"label\")\n",
    "finalized_data.show()"
   ]
  },
  {
   "cell_type": "code",
   "execution_count": null,
   "id": "bd0bfaa2",
   "metadata": {},
   "outputs": [],
   "source": [
    "test_data , train_data = finalized_data.randomSplit([0.3,0.7])"
   ]
  },
  {
   "cell_type": "code",
   "execution_count": null,
   "id": "89c08c45",
   "metadata": {},
   "outputs": [],
   "source": [
    "from pyspark.ml.classification import LinearSVC\n",
    "svm = LinearSVC()\n",
    "svm = svm.fit(train_data)\n",
    "predictions = svm.evaluate(test_data).predictions\n",
    "predictions.show()"
   ]
  },
  {
   "cell_type": "code",
   "execution_count": null,
   "id": "e514d6a5",
   "metadata": {},
   "outputs": [],
   "source": [
    "# eavaluating the accuracy of the model\n",
    "from pyspark.ml.evaluation import BinaryClassificationEvaluator\n",
    "evaluator = BinaryClassificationEvaluator()\n",
    "evaluator.evaluate(predictions)"
   ]
  },
  {
   "cell_type": "code",
   "execution_count": null,
   "id": "1a8eb256",
   "metadata": {},
   "outputs": [],
   "source": []
  }
 ],
 "metadata": {
  "kernelspec": {
   "display_name": "Python 3 (ipykernel)",
   "language": "python",
   "name": "python3"
  },
  "language_info": {
   "codemirror_mode": {
    "name": "ipython",
    "version": 3
   },
   "file_extension": ".py",
   "mimetype": "text/x-python",
   "name": "python",
   "nbconvert_exporter": "python",
   "pygments_lexer": "ipython3",
   "version": "3.10.5"
  }
 },
 "nbformat": 4,
 "nbformat_minor": 5
}
